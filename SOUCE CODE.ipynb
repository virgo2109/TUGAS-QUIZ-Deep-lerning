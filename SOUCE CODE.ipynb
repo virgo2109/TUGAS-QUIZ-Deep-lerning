{
  "nbformat": 4,
  "nbformat_minor": 0,
  "metadata": {
    "colab": {
      "provenance": []
    },
    "kernelspec": {
      "name": "python3",
      "display_name": "Python 3"
    },
    "language_info": {
      "name": "python"
    }
  },
  "cells": [
    {
      "cell_type": "code",
      "execution_count": 4,
      "metadata": {
        "colab": {
          "base_uri": "https://localhost:8080/"
        },
        "id": "hufF5IrmMv4Y",
        "outputId": "f410c2ab-07e0-42ac-c856-85ebf3c84db5"
      },
      "outputs": [
        {
          "output_type": "stream",
          "name": "stdout",
          "text": [
            "Requirement already satisfied: keras==2.15.0 in /usr/local/lib/python3.10/dist-packages (2.15.0)\n"
          ]
        }
      ],
      "source": [
        "pip install keras==2.15.0"
      ]
    },
    {
      "cell_type": "code",
      "source": [
        "import keras\n",
        "print(keras.__version__)"
      ],
      "metadata": {
        "colab": {
          "base_uri": "https://localhost:8080/"
        },
        "id": "YLgjwl2rQ_PL",
        "outputId": "52abdf0a-e739-4a67-e8c7-a464422322e4"
      },
      "execution_count": 5,
      "outputs": [
        {
          "output_type": "stream",
          "name": "stdout",
          "text": [
            "2.15.0\n"
          ]
        }
      ]
    },
    {
      "cell_type": "code",
      "source": [
        "\n"
      ],
      "metadata": {
        "id": "fqJzUgkW3BUg"
      },
      "execution_count": 5,
      "outputs": []
    },
    {
      "cell_type": "code",
      "source": [
        "import os\n",
        "os.environ[\"TF_USE_LEGACY_KERAS\"] = \"1\""
      ],
      "metadata": {
        "id": "nL4nqX1HRYS6"
      },
      "execution_count": 6,
      "outputs": []
    },
    {
      "cell_type": "code",
      "source": [
        "import zipfile\n",
        "import os\n",
        "\n",
        "# Definisikan path ke file zip dataset\n",
        "zip_file = \"dataset_gambar.zip\"\n",
        "\n",
        "# Path untuk mengekstrak arsip\n",
        "extract_dir = \"/content/dataset_gambar\"\n",
        "\n",
        "# Ekstrak arsip zip\n",
        "with zipfile.ZipFile(zip_file, 'r') as zip_ref:\n",
        "    zip_ref.extractall(extract_dir)\n",
        "\n",
        "# List untuk menyimpan data gambar\n",
        "dataset = []\n",
        "\n",
        "# Loop melalui file dalam direktori hasil ekstraksi\n",
        "for file_name in os.listdir(extract_dir):\n",
        "    file_path = os.path.join(extract_dir, file_name)\n",
        "    if os.path.isfile(file_path):  # Periksa apakah path mengarah ke sebuah file\n",
        "        # Lakukan sesuatu dengan file\n",
        "        dataset.append(file_path)\n"
      ],
      "metadata": {
        "id": "RvlJuv9FOQX1"
      },
      "execution_count": 7,
      "outputs": []
    },
    {
      "cell_type": "code",
      "source": [
        "keras.applications.VGG16(\n",
        "    include_top=True,\n",
        "    weights=\"imagenet\",\n",
        "    input_tensor=None,\n",
        "    input_shape=None,\n",
        "    pooling=None,\n",
        "    classes=1000,\n",
        "    classifier_activation=\"softmax\",\n",
        ")"
      ],
      "metadata": {
        "colab": {
          "base_uri": "https://localhost:8080/"
        },
        "id": "TDyaUMNmQQoM",
        "outputId": "af6d079e-764b-4fc4-b385-b747f50d8d9b"
      },
      "execution_count": 8,
      "outputs": [
        {
          "output_type": "execute_result",
          "data": {
            "text/plain": [
              "<keras.src.engine.functional.Functional at 0x787227f6f670>"
            ]
          },
          "metadata": {},
          "execution_count": 8
        }
      ]
    },
    {
      "cell_type": "code",
      "source": [
        "from keras.preprocessing.image import ImageDataGenerator\n",
        "from keras.models import Model\n",
        "from keras.layers import Input, Conv2D, MaxPooling2D, Flatten, Dense\n",
        "from keras.optimizers import Adam\n",
        "\n",
        "# Definisikan ImageDataGenerator untuk pra-pemrosesan dan augmentasi data\n",
        "train_datagen = ImageDataGenerator(\n",
        "    rescale=1./255,  # Skalakan nilai piksel ke rentang [0, 1]\n",
        "    rotation_range=20,  # Rotasi gambar dalam rentang 20 derajat\n",
        "    width_shift_range=0.2,  # Geser gambar horizontal sebesar 20% lebar gambar\n",
        "    height_shift_range=0.2,  # Geser gambar vertikal sebesar 20% tinggi gambar\n",
        "    shear_range=0.2,  # Shearing transformasi sebesar 20 derajat\n",
        "    zoom_range=0.2,  # Perbesaran gambar sebesar 20%\n",
        "    horizontal_flip=True)  # Pembalikan gambar horizontal\n",
        "\n",
        "# Definisikan path ke direktori tempat gambar-gambar pelatihan akan disimpan setelah diekstrak\n",
        "train_dir = \"/content/dataset_gambar\"\n",
        "\n",
        "# Buat generator data pelatihan\n",
        "train_generator = train_datagen.flow_from_directory(\n",
        "    train_dir,  # Gunakan path ke direktori yang baru saja diekstrak\n",
        "    target_size=(224, 224),\n",
        "    batch_size=32,\n",
        "    class_mode='categorical')  # Mode kategori karena kita melakukan klasifikasi\n",
        "\n",
        "# Definisikan model\n",
        "input_layer = Input(shape=(224, 224, 3))\n",
        "conv1 = Conv2D(32, kernel_size=(3, 3), activation='relu')(input_layer)\n",
        "maxpool1 = MaxPooling2D(pool_size=(2, 2))(conv1)\n",
        "conv2 = Conv2D(64, kernel_size=(3, 3), activation='relu')(maxpool1)\n",
        "maxpool2 = MaxPooling2D(pool_size=(2, 2))(conv2)\n",
        "flatten = Flatten()(maxpool2)\n",
        "dense1 = Dense(128, activation='relu')(flatten)\n",
        "output_layer = Dense(3, activation='softmax')(dense1)  # Output 3 kelas\n",
        "model = Model(inputs=input_layer, outputs=output_layer)\n",
        "\n",
        "# Compile model\n",
        "model.compile(optimizer=Adam(), loss='categorical_crossentropy', metrics=['accuracy'])\n",
        "\n",
        "# Lakukan pelatihan model\n",
        "model.fit(train_generator, steps_per_epoch=len(train_generator), epochs=10)\n"
      ],
      "metadata": {
        "colab": {
          "base_uri": "https://localhost:8080/"
        },
        "id": "22eHnBp-Rqxn",
        "outputId": "84a34728-e23b-4404-ac1b-b8517fd52355"
      },
      "execution_count": 9,
      "outputs": [
        {
          "output_type": "stream",
          "name": "stdout",
          "text": [
            "Found 547 images belonging to 1 classes.\n",
            "Epoch 1/10\n",
            "18/18 [==============================] - 73s 4s/step - loss: 251.9129 - accuracy: 0.2925\n",
            "Epoch 2/10\n",
            "18/18 [==============================] - 57s 3s/step - loss: 977.2523 - accuracy: 0.2925\n",
            "Epoch 3/10\n",
            "18/18 [==============================] - 55s 3s/step - loss: 3631.9270 - accuracy: 0.2980\n",
            "Epoch 4/10\n",
            "18/18 [==============================] - 55s 3s/step - loss: 13198.0439 - accuracy: 0.2962\n",
            "Epoch 5/10\n",
            "18/18 [==============================] - 55s 3s/step - loss: 29299.4961 - accuracy: 0.2925\n",
            "Epoch 6/10\n",
            "18/18 [==============================] - 55s 3s/step - loss: 85369.5078 - accuracy: 0.3638\n",
            "Epoch 7/10\n",
            "18/18 [==============================] - 56s 3s/step - loss: 318260.4375 - accuracy: 0.3547\n",
            "Epoch 8/10\n",
            "18/18 [==============================] - 54s 3s/step - loss: 734124.5000 - accuracy: 0.2943\n",
            "Epoch 9/10\n",
            "18/18 [==============================] - 55s 3s/step - loss: 738352.1875 - accuracy: 0.4095\n",
            "Epoch 10/10\n",
            "18/18 [==============================] - 66s 4s/step - loss: 1324152.5000 - accuracy: 0.2888\n"
          ]
        },
        {
          "output_type": "execute_result",
          "data": {
            "text/plain": [
              "<keras.src.callbacks.History at 0x787224677d00>"
            ]
          },
          "metadata": {},
          "execution_count": 9
        }
      ]
    },
    {
      "cell_type": "code",
      "source": [
        "import matplotlib.pyplot as plt\n",
        "from keras.preprocessing.image import ImageDataGenerator\n",
        "\n",
        "# Define the paths to the training and validation directories\n",
        "train_dir = \"/content/dataset_gambar\"\n",
        "validation_dir = \"/content/dataset_gambar\"\n",
        "\n",
        "# Define the model\n",
        "model = models.Sequential([\n",
        "    layers.Conv2D(32, (3, 3), activation='relu', input_shape=(150, 150, 3)),\n",
        "    layers.MaxPooling2D((2, 2)),\n",
        "    layers.Conv2D(64, (3, 3), activation='relu'),\n",
        "    layers.MaxPooling2D((2, 2)),\n",
        "    layers.Conv2D(128, (3, 3), activation='relu'),\n",
        "    layers.MaxPooling2D((2, 2)),\n",
        "    layers.Flatten(),\n",
        "    layers.Dense(512, activation='relu'),\n",
        "    layers.Dense(1, activation='sigmoid')\n",
        "])\n",
        "\n",
        "# Compile the model\n",
        "model.compile(optimizer='adam',\n",
        "              loss='binary_crossentropy',\n",
        "              metrics=['accuracy'])\n",
        "\n",
        "# Initialize the ImageDataGenerator objects for data augmentation and normalization\n",
        "train_datagen = ImageDataGenerator(\n",
        "    rescale=1./255,\n",
        "    rotation_range=40,\n",
        "    width_shift_range=0.2,\n",
        "    height_shift_range=0.2,\n",
        "    shear_range=0.2,\n",
        "    zoom_range=0.2,\n",
        "    horizontal_flip=True,\n",
        "    fill_mode='nearest'\n",
        ")\n",
        "\n",
        "validation_datagen = ImageDataGenerator(rescale=1./255)\n",
        "\n",
        "# Create the training data generator\n",
        "train_generator = train_datagen.flow_from_directory(\n",
        "    train_dir,\n",
        "    target_size=(150, 150),\n",
        "    batch_size=20,\n",
        "    class_mode='binary'\n",
        ")\n",
        "\n",
        "# Create the validation data generator\n",
        "validation_generator = validation_datagen.flow_from_directory(\n",
        "    validation_dir,\n",
        "    target_size=(150, 150),\n",
        "    batch_size=20,\n",
        "    class_mode='binary'\n",
        ")\n",
        "\n",
        "# Train the model\n",
        "history = model.fit(\n",
        "    train_generator,\n",
        "    steps_per_epoch=len(train_generator),\n",
        "    epochs=10,\n",
        "    validation_data=validation_generator,\n",
        "    validation_steps=len(validation_generator)\n",
        ")\n",
        "\n",
        "# Plot the training and validation loss\n",
        "plt.plot(history.history['loss'], label='Training Loss')\n",
        "plt.plot(history.history['val_loss'], label='Validation Loss')\n",
        "plt.xlabel('Epoch')\n",
        "plt.ylabel('Loss')\n",
        "plt.legend()\n",
        "plt.title('Training and Validation Loss')\n",
        "plt.show()\n",
        "\n",
        "# Plot the training and validation accuracy\n",
        "plt.plot(history.history['accuracy'], label='Training Accuracy')\n",
        "plt.plot(history.history['val_accuracy'], label='Validation Accuracy')\n",
        "plt.xlabel('Epoch')\n",
        "plt.ylabel('Accuracy')\n",
        "plt.legend()\n",
        "plt.title('Training and Validation Accuracy')\n",
        "plt.show()\n"
      ],
      "metadata": {
        "id": "Orpr6lTpcNpK",
        "colab": {
          "base_uri": "https://localhost:8080/",
          "height": 1000
        },
        "outputId": "0685a8ff-a162-4478-8984-8c3909c5dc29"
      },
      "execution_count": 24,
      "outputs": [
        {
          "output_type": "stream",
          "name": "stdout",
          "text": [
            "Found 547 images belonging to 1 classes.\n",
            "Found 547 images belonging to 1 classes.\n",
            "Epoch 1/10\n",
            "28/28 [==============================] - 50s 2s/step - loss: 0.0263 - accuracy: 0.9671 - val_loss: 0.0000e+00 - val_accuracy: 1.0000\n",
            "Epoch 2/10\n",
            "28/28 [==============================] - 48s 2s/step - loss: 0.0000e+00 - accuracy: 1.0000 - val_loss: 0.0000e+00 - val_accuracy: 1.0000\n",
            "Epoch 3/10\n",
            "28/28 [==============================] - 47s 2s/step - loss: 0.0000e+00 - accuracy: 1.0000 - val_loss: 0.0000e+00 - val_accuracy: 1.0000\n",
            "Epoch 4/10\n",
            "28/28 [==============================] - 47s 2s/step - loss: 0.0000e+00 - accuracy: 1.0000 - val_loss: 0.0000e+00 - val_accuracy: 1.0000\n",
            "Epoch 5/10\n",
            "28/28 [==============================] - 46s 2s/step - loss: 0.0000e+00 - accuracy: 1.0000 - val_loss: 0.0000e+00 - val_accuracy: 1.0000\n",
            "Epoch 6/10\n",
            "28/28 [==============================] - 47s 2s/step - loss: 0.0000e+00 - accuracy: 1.0000 - val_loss: 0.0000e+00 - val_accuracy: 1.0000\n",
            "Epoch 7/10\n",
            "28/28 [==============================] - 47s 2s/step - loss: 0.0000e+00 - accuracy: 1.0000 - val_loss: 0.0000e+00 - val_accuracy: 1.0000\n",
            "Epoch 8/10\n",
            "28/28 [==============================] - 47s 2s/step - loss: 0.0000e+00 - accuracy: 1.0000 - val_loss: 0.0000e+00 - val_accuracy: 1.0000\n",
            "Epoch 9/10\n",
            "28/28 [==============================] - 48s 2s/step - loss: 0.0000e+00 - accuracy: 1.0000 - val_loss: 0.0000e+00 - val_accuracy: 1.0000\n",
            "Epoch 10/10\n",
            "28/28 [==============================] - 47s 2s/step - loss: 0.0000e+00 - accuracy: 1.0000 - val_loss: 0.0000e+00 - val_accuracy: 1.0000\n"
          ]
        },
        {
          "output_type": "display_data",
          "data": {
            "text/plain": [
              "<Figure size 640x480 with 1 Axes>"
            ],
            "image/png": "[encoded data removed]"
          },
          "metadata": {}
        },
        {
          "output_type": "display_data",
          "data": {
            "text/plain": [
              "<Figure size 640x480 with 1 Axes>"
            ],
            "image/png": "[encoded data removed]"
          },
          "metadata": {}
        }
      ]
    },
    {
      "cell_type": "code",
      "source": [
        "import tensorflow as tf\n",
        "from tensorflow.keras import layers, models\n",
        "\n",
        "# Buat model\n",
        "model = models.Sequential([\n",
        "    layers.Flatten(input_shape=(28, 28)),  # Flatten data gambar menjadi 1D array\n",
        "    layers.Dense(64, activation='relu'),\n",
        "    layers.Dense(10, activation='softmax')\n",
        "])\n",
        "\n",
        "# Kompilasi model\n",
        "model.compile(optimizer='adam',\n",
        "              loss='sparse_categorical_crossentropy',\n",
        "              metrics=['accuracy'])\n",
        "\n",
        "# Muat data\n",
        "mnist = tf.keras.datasets.mnist\n",
        "(x_train, y_train), (x_test, y_test) = mnist.load_data()\n",
        "\n",
        "# Normalisasi data\n",
        "x_train, x_test = x_train / 255.0, x_test / 255.0\n",
        "\n",
        "# Latih model\n",
        "model.fit(x_train, y_train, epochs=5)\n",
        "\n",
        "# Evaluasi model\n",
        "model.evaluate(x_test, y_test)\n"
      ],
      "metadata": {
        "id": "GZbq0KMdr_QE",
        "colab": {
          "base_uri": "https://localhost:8080/"
        },
        "outputId": "e04630c9-f5cc-460f-cce4-3326eb55b5f4"
      },
      "execution_count": 15,
      "outputs": [
        {
          "output_type": "stream",
          "name": "stdout",
          "text": [
            "Downloading data from https://storage.googleapis.com/tensorflow/tf-keras-datasets/mnist.npz\n",
            "11490434/11490434 [==============================] - 0s 0us/step\n",
            "Epoch 1/5\n",
            "1875/1875 [==============================] - 23s 3ms/step - loss: 0.2980 - accuracy: 0.9162\n",
            "Epoch 2/5\n",
            "1875/1875 [==============================] - 4s 2ms/step - loss: 0.1438 - accuracy: 0.9585\n",
            "Epoch 3/5\n",
            "1875/1875 [==============================] - 6s 3ms/step - loss: 0.1054 - accuracy: 0.9692\n",
            "Epoch 4/5\n",
            "1875/1875 [==============================] - 4s 2ms/step - loss: 0.0826 - accuracy: 0.9750\n",
            "Epoch 5/5\n",
            "1875/1875 [==============================] - 4s 2ms/step - loss: 0.0680 - accuracy: 0.9796\n",
            "313/313 [==============================] - 1s 2ms/step - loss: 0.0861 - accuracy: 0.9740\n"
          ]
        },
        {
          "output_type": "execute_result",
          "data": {
            "text/plain": [
              "[0.08606334030628204, 0.9739999771118164]"
            ]
          },
          "metadata": {},
          "execution_count": 15
        }
      ]
    },
    {
      "cell_type": "code",
      "source": [
        "import matplotlib.pyplot as plt\n",
        "import numpy as np\n",
        "import tensorflow as tf\n",
        "import tensorflow_datasets as tfds\n",
        "\n",
        "# Load the MNIST dataset\n",
        "(train_images, train_labels), (test_images, test_labels) = tf.keras.datasets.mnist.load_data()\n",
        "\n",
        "# Preprocess the data\n",
        "train_images = train_images.reshape((60000, 28, 28, 1))\n",
        "train_images = train_images.astype('float32') / 255\n",
        "\n",
        "test_images = test_images.reshape((10000, 28, 28, 1))\n",
        "test_images = test_images.astype('float32') / 255\n",
        "\n",
        "# Define your model\n",
        "model = tf.keras.models.Sequential([\n",
        "    tf.keras.layers.Conv2D(32, (3, 3), activation='relu', input_shape=(28, 28, 1)),\n",
        "    tf.keras.layers.MaxPooling2D((2, 2)),\n",
        "    tf.keras.layers.Conv2D(64, (3, 3), activation='relu'),\n",
        "    tf.keras.layers.MaxPooling2D((2, 2)),\n",
        "    tf.keras.layers.Conv2D(64, (3, 3), activation='relu'),\n",
        "    tf.keras.layers.Flatten(),\n",
        "    tf.keras.layers.Dense(64, activation='relu'),\n",
        "    tf.keras.layers.Dense(10, activation='softmax')\n",
        "])\n",
        "\n",
        "# Compile the model\n",
        "model.compile(optimizer='adam',\n",
        "              loss='sparse_categorical_crossentropy',\n",
        "              metrics=['accuracy'])\n",
        "\n",
        "# Train the model\n",
        "history = model.fit(train_images, train_labels, epochs=5, validation_data=(test_images, test_labels))\n",
        "\n",
        "# Load 9 samples from the test set for visualization\n",
        "test_dataset = tf.data.Dataset.from_tensor_slices((test_images, test_labels)).batch(9)\n",
        "\n",
        "# Plot images and predictions\n",
        "plt.figure(figsize=(10, 10))\n",
        "for images, labels in test_dataset.take(1):\n",
        "    for i in range(9):\n",
        "        ax = plt.subplot(3, 3, i + 1)\n",
        "        plt.imshow(images[i].numpy().reshape(28, 28), cmap=plt.cm.binary)\n",
        "        plt.title(\"Predicted: {}\".format(np.argmax(model.predict(images[i:i+1]))))\n",
        "        plt.axis('off')\n"
      ],
      "metadata": {
        "id": "nmazCbIMeR-O",
        "colab": {
          "base_uri": "https://localhost:8080/",
          "height": 1000
        },
        "outputId": "2b3ad8e2-5204-4aed-e961-b0a74af3c536"
      },
      "execution_count": 27,
      "outputs": [
        {
          "output_type": "stream",
          "name": "stdout",
          "text": [
            "Epoch 1/5\n",
            "1875/1875 [==============================] - 60s 30ms/step - loss: 0.1498 - accuracy: 0.9547 - val_loss: 0.0550 - val_accuracy: 0.9815\n",
            "Epoch 2/5\n",
            "1875/1875 [==============================] - 55s 30ms/step - loss: 0.0460 - accuracy: 0.9855 - val_loss: 0.0503 - val_accuracy: 0.9851\n",
            "Epoch 3/5\n",
            "1875/1875 [==============================] - 56s 30ms/step - loss: 0.0342 - accuracy: 0.9893 - val_loss: 0.0365 - val_accuracy: 0.9893\n",
            "Epoch 4/5\n",
            "1875/1875 [==============================] - 55s 29ms/step - loss: 0.0248 - accuracy: 0.9922 - val_loss: 0.0347 - val_accuracy: 0.9892\n",
            "Epoch 5/5\n",
            "1875/1875 [==============================] - 57s 31ms/step - loss: 0.0202 - accuracy: 0.9935 - val_loss: 0.0271 - val_accuracy: 0.9926\n",
            "1/1 [==============================] - 0s 339ms/step\n",
            "1/1 [==============================] - 0s 21ms/step\n",
            "1/1 [==============================] - 0s 21ms/step\n",
            "1/1 [==============================] - 0s 20ms/step\n",
            "1/1 [==============================] - 0s 19ms/step\n",
            "1/1 [==============================] - 0s 21ms/step\n",
            "1/1 [==============================] - 0s 21ms/step\n",
            "1/1 [==============================] - 0s 21ms/step\n",
            "1/1 [==============================] - 0s 21ms/step\n"
          ]
        },
        {
          "output_type": "display_data",
          "data": {
            "text/plain": [
              "<Figure size 1000x1000 with 9 Axes>"
            ],
            "image/png": "[encoded data removed]"
          },
          "metadata": {}
        }
      ]
    }
  ]
}